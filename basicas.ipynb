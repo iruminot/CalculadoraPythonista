{
 "cells": [
  {
   "cell_type": "markdown",
   "metadata": {},
   "source": [
    "Archivo con las funciones basicas de una calculadora"
   ]
  },
  {
   "cell_type": "code",
   "execution_count": null,
   "metadata": {},
   "outputs": [],
   "source": [
    "# FUNCION SUMA\n",
    "def calculadora(): \n",
    " \n",
    "    print(\"Resultado: \", num1 + num2)\n",
    "\n",
    "calculadora()"
   ]
  },
  {
   "cell_type": "code",
   "execution_count": null,
   "metadata": {},
   "outputs": [],
   "source": [
    "# FUNCION RESTA\n",
    "def calculadora(): \n",
    "    \n",
    "    print(\"Resultado: \", num1 - num2)\n",
    "\n",
    "calculadora()"
   ]
  },
  {
   "cell_type": "code",
   "execution_count": null,
   "metadata": {},
   "outputs": [],
   "source": [
    "# FUNCION MULTIPLICACION\n",
    "def calculadora(): \n",
    "\n",
    "    print(\"Resultado: \", num1 * num2)\n",
    "\n",
    "calculadora()"
   ]
  },
  {
   "cell_type": "code",
   "execution_count": null,
   "metadata": {},
   "outputs": [],
   "source": [
    "# FUNCION DIVISION\n",
    "def calculadora(): \n",
    "   \n",
    "    print(\"Resultado: \", num1 / num2)\n",
    "\n",
    "calculadora()"
   ]
  },
  {
   "cell_type": "code",
   "execution_count": null,
   "metadata": {},
   "outputs": [],
   "source": [
    "# FUNCION COCIENTE\n",
    "def obtener_cociente(num1, num2):\n",
    "    cociente = num1 // num2\n",
    "    return cociente\n",
    "\n",
    "cociente = obtener_cociente(num1, num2) \n",
    "print(f\"El cociente de la división es {cociente}\")"
   ]
  },
  {
   "cell_type": "code",
   "execution_count": null,
   "metadata": {},
   "outputs": [],
   "source": [
    "# FUNCION RESTO\n",
    "def obtener_resto(num1, num2):\n",
    "    resto = num1 % num2\n",
    "    return resto\n",
    "\n",
    "resto = obtener_resto(num1resto, num2resto) \n",
    "print(f\"El resto de la división es {resto}\")"
   ]
  },
  {
   "cell_type": "code",
   "execution_count": null,
   "metadata": {},
   "outputs": [],
   "source": [
    "# FUNCION POTENCIA\n",
    "def calculadora(): \n",
    "    num1 = float(input(\"Ingresa el primer número: \"))\n",
    "    \n",
    "    num2 = float(input(\"Ingresa el segundo número: \"))\n",
    "\n",
    "    print(\"Resultado: \", num1 ** num2)\n",
    "\n",
    "calculadora()"
   ]
  },
  {
   "cell_type": "code",
   "execution_count": null,
   "metadata": {},
   "outputs": [],
   "source": [
    "# FUNCION RAIZ\n",
    "def calculadora(): \n",
    "    num1 = float(input(\"Ingresa el primer número: \"))\n",
    "    \n",
    "    #num2 = float(input(\"Ingresa el segundo número: \"))\n",
    "\n",
    "    print(\"Resultado: \", num1 ** (1/2))\n",
    "\n",
    "calculadora()"
   ]
  }
 ],
 "metadata": {
  "language_info": {
   "name": "python"
  },
  "orig_nbformat": 4
 },
 "nbformat": 4,
 "nbformat_minor": 2
}
