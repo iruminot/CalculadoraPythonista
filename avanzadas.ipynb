{
 "cells": [
  {
   "cell_type": "code",
   "execution_count": null,
   "metadata": {},
   "outputs": [],
   "source": [
    "import numpy as np"
   ]
  },
  {
   "cell_type": "code",
   "execution_count": null,
   "metadata": {},
   "outputs": [],
   "source": [
    "# FUNCION SENO\n",
    "\n",
    "def seno(num1):\n",
    "    return np.sen(num1)"
   ]
  },
  {
   "cell_type": "code",
   "execution_count": null,
   "metadata": {},
   "outputs": [],
   "source": [
    "# FUNCION COSENO\n",
    "\n",
    "def seno(num1):\n",
    "    return np.cos(num1)"
   ]
  },
  {
   "cell_type": "code",
   "execution_count": null,
   "metadata": {},
   "outputs": [],
   "source": [
    "# FUNCION TANGENTE\n",
    "\n",
    "def seno(num1):\n",
    "    return np.tan(num1)"
   ]
  },
  {
   "cell_type": "code",
   "execution_count": null,
   "metadata": {},
   "outputs": [],
   "source": [
    "# FUNCION LOGARITMO\n",
    "\n",
    "#Logaritmo natural\n",
    "def log(num1):\n",
    "    print(\"log natural\", num1)\n",
    "  \n",
    "\n",
    "#Logaritmo base 2\n",
    "def log2(num1):\n",
    "    print(\"log base 2\", num1)\n",
    "    \n",
    "#Logaritmo base 10\n",
    "def log10(num1):\n",
    "\n",
    "    print(\"log base 10\", num1)"
   ]
  }
 ],
 "metadata": {
  "language_info": {
   "name": "python"
  },
  "orig_nbformat": 4
 },
 "nbformat": 4,
 "nbformat_minor": 2
}
