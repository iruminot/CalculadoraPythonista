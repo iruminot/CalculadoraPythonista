{
 "cells": [
  {
   "cell_type": "markdown",
   "metadata": {},
   "source": [
    "Resto"
   ]
  },
  {
   "cell_type": "code",
   "execution_count": null,
   "metadata": {},
   "outputs": [],
   "source": [
    "def obtener_resto(num1, num2):\n",
    "    resto = num1 % num2\n",
    "    return resto\n",
    "\n",
    "resto = obtener_resto(num1resto, num2resto) \n",
    "print(f\"El resto de la división es {resto}\")"
   ]
  }
 ],
 "metadata": {
  "language_info": {
   "name": "python"
  },
  "orig_nbformat": 4
 },
 "nbformat": 4,
 "nbformat_minor": 2
}
