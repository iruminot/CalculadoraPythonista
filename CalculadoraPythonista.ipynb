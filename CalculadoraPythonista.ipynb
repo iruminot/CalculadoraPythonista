{
 "cells": [
  {
   "cell_type": "code",
   "execution_count": 1,
   "metadata": {},
   "outputs": [],
   "source": [
    "from calculadora_basica import * \n",
    "from calculadora_avanzada import *\n",
    "\n",
    "######\n",
    "def calc():\n",
    "    eleccion = int(input(\"Elige una opción: \"))\n",
    "    if eleccion  == 1:\n",
    "        calculadora_basica()\n",
    "    elif eleccion == 2:\n",
    "        calculadora_avanzada()\n",
    "    else:\n",
    "        print(\"\\nOpción no válida. Por favor, elige una opción entre 1 y 2.\")\n",
    "        calc()"
   ]
  },
  {
   "cell_type": "code",
   "execution_count": null,
   "metadata": {},
   "outputs": [
    {
     "name": "stdout",
     "output_type": "stream",
     "text": [
      "Bienvenido a la calculadora en Python\n",
      "1. Calculadora Basica\n",
      "2. Calculadora Avanzada \n",
      "\n"
     ]
    },
    {
     "name": "stdin",
     "output_type": "stream",
     "text": [
      "Elige una opción:  1\n"
     ]
    },
    {
     "name": "stdout",
     "output_type": "stream",
     "text": [
      "\n",
      "1. Suma\n",
      "2. Resta\n",
      "3. Multiplicación\n",
      "4. División\n",
      "5. Potencia\n",
      "6. Raíz cuadrada\n",
      "7. Salir\n",
      "\n"
     ]
    },
    {
     "name": "stdin",
     "output_type": "stream",
     "text": [
      "Elige una opción:  1\n",
      "Ingresa el primer número:  1\n",
      "Ingresa el segundo número:  1\n"
     ]
    },
    {
     "name": "stdout",
     "output_type": "stream",
     "text": [
      "\n",
      "Resultado:  2.0\n",
      "\n",
      "1. Suma\n",
      "2. Resta\n",
      "3. Multiplicación\n",
      "4. División\n",
      "5. Potencia\n",
      "6. Raíz cuadrada\n",
      "7. Salir\n",
      "\n"
     ]
    },
    {
     "name": "stdin",
     "output_type": "stream",
     "text": [
      "Elige una opción:  7\n",
      "Elige una opción:  7\n"
     ]
    },
    {
     "name": "stdout",
     "output_type": "stream",
     "text": [
      "\n",
      "Opción no válida. Por favor, elige una opción entre 1 y 2.\n"
     ]
    }
   ],
   "source": [
    "print(\"Bienvenido a la calculadora en Python\")\n",
    "print(\"1. Calculadora Basica\")\n",
    "print(\"2. Calculadora Avanzada \\n\")\n",
    "calc()\n"
   ]
  },
  {
   "cell_type": "code",
   "execution_count": null,
   "metadata": {},
   "outputs": [],
   "source": []
  }
 ],
 "metadata": {
  "kernelspec": {
   "display_name": "Python 3 (ipykernel)",
   "language": "python",
   "name": "python3"
  },
  "language_info": {
   "codemirror_mode": {
    "name": "ipython",
    "version": 3
   },
   "file_extension": ".py",
   "mimetype": "text/x-python",
   "name": "python",
   "nbconvert_exporter": "python",
   "pygments_lexer": "ipython3",
   "version": "3.9.15"
  }
 },
 "nbformat": 4,
 "nbformat_minor": 4
}
