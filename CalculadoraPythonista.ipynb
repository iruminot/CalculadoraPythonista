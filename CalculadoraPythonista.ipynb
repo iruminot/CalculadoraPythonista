{
 "cells": [
  {
   "cell_type": "markdown",
   "metadata": {},
   "source": [
    "Raiz"
   ]
  },
  {
   "cell_type": "code",
   "execution_count": null,
   "metadata": {},
   "outputs": [],
   "source": [
    "def calculadora(): \n",
    "    num1 = float(input(\"Ingresa el primer número: \"))\n",
    "    \n",
    "    #num2 = float(input(\"Ingresa el segundo número: \"))\n",
    "\n",
    "    print(\"Resultado: \", num1 ** (1/2))\n",
    "\n",
    "calculadora()"
   ]
  }
 ],
 "metadata": {
  "language_info": {
   "name": "python"
  },
  "orig_nbformat": 4
 },
 "nbformat": 4,
 "nbformat_minor": 2
}
