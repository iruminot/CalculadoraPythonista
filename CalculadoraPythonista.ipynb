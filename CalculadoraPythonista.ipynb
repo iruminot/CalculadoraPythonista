{
 "cells": [
  {
   "cell_type": "code",
   "execution_count": null,
   "metadata": {},
   "outputs": [],
   "source": [
    "# Creación del notebook donde se programará la calculadora.\n",
    "\n",
    "#1+1+1"
   ]
  },
  {
   "cell_type": "markdown",
   "metadata": {},
   "source": [
    "Función Logaritmo"
   ]
  },
  {
   "cell_type": "code",
   "execution_count": null,
   "metadata": {},
   "outputs": [],
   "source": [
    "import numpy as np\n",
    "\n",
    "#Logaritmo natural\n",
    "def log(num1):\n",
    "\n",
    "    print(\"log natural\", num1)\n",
    "  \n",
    "\n",
    "#Logaritmo base 2\n",
    "def log2(num1):\n",
    "    print(\"log base 2\", num1)\n",
    "#Logaritmo base 10\n",
    "def log10(num1):\n",
    "\n",
    "    print(\"log base 10\", num1)\n",
    "    "
   ]
  },
  {
   "cell_type": "code",
   "execution_count": null,
   "metadata": {},
   "outputs": [],
   "source": [
    "num1=e\n",
    "log(num1)"
   ]
  },
  {
   "cell_type": "code",
   "execution_count": null,
   "metadata": {},
   "outputs": [],
   "source": []
  }
 ],
 "metadata": {
  "language_info": {
   "name": "python"
  },
  "orig_nbformat": 4
 },
 "nbformat": 4,
 "nbformat_minor": 2
}
