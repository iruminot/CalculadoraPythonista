{
 "cells": [
  {
   "cell_type": "markdown",
   "metadata": {},
   "source": [
    "Cociente"
   ]
  },
  {
   "cell_type": "code",
   "execution_count": null,
   "metadata": {},
   "outputs": [],
   "source": [
    "def obtener_cociente(num1, num2):\n",
    "    cociente = num1 // num2\n",
    "    return cociente\n",
    "\n",
    "cociente = obtener_cociente(num1, num2) \n",
    "print(f\"El cociente de la división es {cociente}\")\n",
    "\n",
    "#revisar como agregar las variables num1 y num2"
   ]
  }
 ],
 "metadata": {
  "language_info": {
   "name": "python"
  },
  "orig_nbformat": 4
 },
 "nbformat": 4,
 "nbformat_minor": 2
}
